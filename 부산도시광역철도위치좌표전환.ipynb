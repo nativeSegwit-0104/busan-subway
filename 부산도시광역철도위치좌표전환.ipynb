{
 "cells": [
  {
   "cell_type": "code",
   "execution_count": 7,
   "id": "66c7ede6",
   "metadata": {},
   "outputs": [
    {
     "name": "stderr",
     "output_type": "stream",
     "text": [
      "c:\\Users\\tjral\\anaconda3\\Lib\\site-packages\\openpyxl\\worksheet\\_read_only.py:85: UserWarning: Data Validation extension is not supported and will be removed\n",
      "  for idx, row in parser.parse():\n"
     ]
    }
   ],
   "source": [
    "import pandas as pd\n",
    "df = pd.read_excel('전국 도시광역철도_역사정보_20250101.xlsx')\n",
    "df = pd.DataFrame(df, columns=['철도운영기관명', '운영노선', '역명(한글)', '역 주소(도로명 주소)', '역 위치(위도)', '역 위치(경도)'])\n",
    "df = df.query(\"운영노선 in ['동해선'] or 철도운영기관명 in ['부산교통공사', '부산김해경전철']\")\n",
    "pd.set_option('display.max_rows', None)\n",
    "df = df.sort_values(by='운영노선', ascending=True)\n",
    "df.to_csv('부산광역시_도시광역철도위치_좌표.csv', encoding='utf-8-sig')"
   ]
  }
 ],
 "metadata": {
  "kernelspec": {
   "display_name": "base",
   "language": "python",
   "name": "python3"
  },
  "language_info": {
   "codemirror_mode": {
    "name": "ipython",
    "version": 3
   },
   "file_extension": ".py",
   "mimetype": "text/x-python",
   "name": "python",
   "nbconvert_exporter": "python",
   "pygments_lexer": "ipython3",
   "version": "3.12.7"
  }
 },
 "nbformat": 4,
 "nbformat_minor": 5
}
